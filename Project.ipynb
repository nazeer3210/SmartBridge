{
  "nbformat": 4,
  "nbformat_minor": 0,
  "metadata": {
    "colab": {
      "name": "Project.ipynb",
      "provenance": []
    },
    "kernelspec": {
      "name": "python3",
      "display_name": "Python 3"
    },
    "language_info": {
      "name": "python"
    }
  },
  "cells": [
    {
      "cell_type": "code",
      "metadata": {
        "id": "WjtllLfw2ux3"
      },
      "source": [
        "import numpy as np \n",
        "import pandas as pd \n",
        "import matplotlib.pyplot as plt \n",
        "import seaborn as sns"
      ],
      "execution_count": null,
      "outputs": []
    },
    {
      "cell_type": "code",
      "metadata": {
        "id": "pboZYGrI4lsP",
        "colab": {
          "base_uri": "https://localhost:8080/",
          "height": 462
        },
        "outputId": "18d65449-58be-4f78-cf0b-6e7baea7f9c9"
      },
      "source": [
        "data=pd.read_csv(r\"/content/drive/MyDrive/h1b_kaggle.csv\")\n",
        "data.head()"
      ],
      "execution_count": null,
      "outputs": [
        {
          "output_type": "execute_result",
          "data": {
            "text/html": [
              "<div>\n",
              "<style scoped>\n",
              "    .dataframe tbody tr th:only-of-type {\n",
              "        vertical-align: middle;\n",
              "    }\n",
              "\n",
              "    .dataframe tbody tr th {\n",
              "        vertical-align: top;\n",
              "    }\n",
              "\n",
              "    .dataframe thead th {\n",
              "        text-align: right;\n",
              "    }\n",
              "</style>\n",
              "<table border=\"1\" class=\"dataframe\">\n",
              "  <thead>\n",
              "    <tr style=\"text-align: right;\">\n",
              "      <th></th>\n",
              "      <th>Unnamed: 0</th>\n",
              "      <th>CASE_STATUS</th>\n",
              "      <th>EMPLOYER_NAME</th>\n",
              "      <th>SOC_NAME</th>\n",
              "      <th>JOB_TITLE</th>\n",
              "      <th>FULL_TIME_POSITION</th>\n",
              "      <th>PREVAILING_WAGE</th>\n",
              "      <th>YEAR</th>\n",
              "      <th>WORKSITE</th>\n",
              "      <th>lon</th>\n",
              "      <th>lat</th>\n",
              "    </tr>\n",
              "  </thead>\n",
              "  <tbody>\n",
              "    <tr>\n",
              "      <th>0</th>\n",
              "      <td>1</td>\n",
              "      <td>CERTIFIED-WITHDRAWN</td>\n",
              "      <td>UNIVERSITY OF MICHIGAN</td>\n",
              "      <td>BIOCHEMISTS AND BIOPHYSICISTS</td>\n",
              "      <td>POSTDOCTORAL RESEARCH FELLOW</td>\n",
              "      <td>N</td>\n",
              "      <td>36067.0</td>\n",
              "      <td>2016.0</td>\n",
              "      <td>ANN ARBOR, MICHIGAN</td>\n",
              "      <td>-83.743038</td>\n",
              "      <td>42.280826</td>\n",
              "    </tr>\n",
              "    <tr>\n",
              "      <th>1</th>\n",
              "      <td>2</td>\n",
              "      <td>CERTIFIED-WITHDRAWN</td>\n",
              "      <td>GOODMAN NETWORKS, INC.</td>\n",
              "      <td>CHIEF EXECUTIVES</td>\n",
              "      <td>CHIEF OPERATING OFFICER</td>\n",
              "      <td>Y</td>\n",
              "      <td>242674.0</td>\n",
              "      <td>2016.0</td>\n",
              "      <td>PLANO, TEXAS</td>\n",
              "      <td>-96.698886</td>\n",
              "      <td>33.019843</td>\n",
              "    </tr>\n",
              "    <tr>\n",
              "      <th>2</th>\n",
              "      <td>3</td>\n",
              "      <td>CERTIFIED-WITHDRAWN</td>\n",
              "      <td>PORTS AMERICA GROUP, INC.</td>\n",
              "      <td>CHIEF EXECUTIVES</td>\n",
              "      <td>CHIEF PROCESS OFFICER</td>\n",
              "      <td>Y</td>\n",
              "      <td>193066.0</td>\n",
              "      <td>2016.0</td>\n",
              "      <td>JERSEY CITY, NEW JERSEY</td>\n",
              "      <td>-74.077642</td>\n",
              "      <td>40.728158</td>\n",
              "    </tr>\n",
              "    <tr>\n",
              "      <th>3</th>\n",
              "      <td>4</td>\n",
              "      <td>CERTIFIED-WITHDRAWN</td>\n",
              "      <td>GATES CORPORATION, A WHOLLY-OWNED SUBSIDIARY O...</td>\n",
              "      <td>CHIEF EXECUTIVES</td>\n",
              "      <td>REGIONAL PRESIDEN, AMERICAS</td>\n",
              "      <td>Y</td>\n",
              "      <td>220314.0</td>\n",
              "      <td>2016.0</td>\n",
              "      <td>DENVER, COLORADO</td>\n",
              "      <td>-104.990251</td>\n",
              "      <td>39.739236</td>\n",
              "    </tr>\n",
              "    <tr>\n",
              "      <th>4</th>\n",
              "      <td>5</td>\n",
              "      <td>WITHDRAWN</td>\n",
              "      <td>PEABODY INVESTMENTS CORP.</td>\n",
              "      <td>CHIEF EXECUTIVES</td>\n",
              "      <td>PRESIDENT MONGOLIA AND INDIA</td>\n",
              "      <td>Y</td>\n",
              "      <td>157518.4</td>\n",
              "      <td>2016.0</td>\n",
              "      <td>ST. LOUIS, MISSOURI</td>\n",
              "      <td>-90.199404</td>\n",
              "      <td>38.627003</td>\n",
              "    </tr>\n",
              "  </tbody>\n",
              "</table>\n",
              "</div>"
            ],
            "text/plain": [
              "   Unnamed: 0          CASE_STATUS  ...         lon        lat\n",
              "0           1  CERTIFIED-WITHDRAWN  ...  -83.743038  42.280826\n",
              "1           2  CERTIFIED-WITHDRAWN  ...  -96.698886  33.019843\n",
              "2           3  CERTIFIED-WITHDRAWN  ...  -74.077642  40.728158\n",
              "3           4  CERTIFIED-WITHDRAWN  ... -104.990251  39.739236\n",
              "4           5            WITHDRAWN  ...  -90.199404  38.627003\n",
              "\n",
              "[5 rows x 11 columns]"
            ]
          },
          "metadata": {
            "tags": []
          },
          "execution_count": 2
        }
      ]
    },
    {
      "cell_type": "code",
      "metadata": {
        "id": "DyBsKbe442dE",
        "colab": {
          "base_uri": "https://localhost:8080/"
        },
        "outputId": "37cb3304-010c-4bb7-e78c-fc558c923033"
      },
      "source": [
        "data.info()"
      ],
      "execution_count": null,
      "outputs": [
        {
          "output_type": "stream",
          "text": [
            "<class 'pandas.core.frame.DataFrame'>\n",
            "RangeIndex: 3002458 entries, 0 to 3002457\n",
            "Data columns (total 11 columns):\n",
            " #   Column              Dtype  \n",
            "---  ------              -----  \n",
            " 0   Unnamed: 0          int64  \n",
            " 1   CASE_STATUS         object \n",
            " 2   EMPLOYER_NAME       object \n",
            " 3   SOC_NAME            object \n",
            " 4   JOB_TITLE           object \n",
            " 5   FULL_TIME_POSITION  object \n",
            " 6   PREVAILING_WAGE     float64\n",
            " 7   YEAR                float64\n",
            " 8   WORKSITE            object \n",
            " 9   lon                 float64\n",
            " 10  lat                 float64\n",
            "dtypes: float64(4), int64(1), object(6)\n",
            "memory usage: 252.0+ MB\n"
          ],
          "name": "stdout"
        }
      ]
    },
    {
      "cell_type": "code",
      "metadata": {
        "id": "KR3iUmnR5D3o",
        "colab": {
          "base_uri": "https://localhost:8080/"
        },
        "outputId": "4bfcbb93-a3cb-42b6-cf62-1667cadd4095"
      },
      "source": [
        "data.CASE_STATUS.value_counts()"
      ],
      "execution_count": null,
      "outputs": [
        {
          "output_type": "execute_result",
          "data": {
            "text/plain": [
              "CERTIFIED                                             2615623\n",
              "CERTIFIED-WITHDRAWN                                    202659\n",
              "DENIED                                                  94346\n",
              "WITHDRAWN                                               89799\n",
              "PENDING QUALITY AND COMPLIANCE REVIEW - UNASSIGNED         15\n",
              "REJECTED                                                    2\n",
              "INVALIDATED                                                 1\n",
              "Name: CASE_STATUS, dtype: int64"
            ]
          },
          "metadata": {
            "tags": []
          },
          "execution_count": 4
        }
      ]
    },
    {
      "cell_type": "code",
      "metadata": {
        "id": "n8wZuhbE5KEs",
        "colab": {
          "base_uri": "https://localhost:8080/",
          "height": 307
        },
        "outputId": "55c98108-d62d-4b77-c507-119cbe566773"
      },
      "source": [
        "data.YEAR.value_counts().plot(kind = 'bar')"
      ],
      "execution_count": null,
      "outputs": [
        {
          "output_type": "execute_result",
          "data": {
            "text/plain": [
              "<matplotlib.axes._subplots.AxesSubplot at 0x7fe190051190>"
            ]
          },
          "metadata": {
            "tags": []
          },
          "execution_count": 5
        },
        {
          "output_type": "display_data",
          "data": {
            "image/png": "[encoded data removed]",
            "text/plain": [
              "<Figure size 432x288 with 1 Axes>"
            ]
          },
          "metadata": {
            "tags": [],
            "needs_background": "light"
          }
        }
      ]
    },
    {
      "cell_type": "code",
      "metadata": {
        "id": "bQ2N24Ke5OiB",
        "colab": {
          "base_uri": "https://localhost:8080/",
          "height": 294
        },
        "outputId": "5cd7cad7-18be-4f4f-baaf-e7bb04eb2547"
      },
      "source": [
        "plt.figure()\n",
        "data.CASE_STATUS.value_counts().plot(kind='barh')\n",
        "data.sort_values('CASE_STATUS')\n",
        "plt.title(\"NUMBER OF APPLICATIONS\")\n",
        "plt.show()"
      ],
      "execution_count": null,
      "outputs": [
        {
          "output_type": "display_data",
          "data": {
            "image/png": "[encoded data removed]",
            "text/plain": [
              "<Figure size 432x288 with 1 Axes>"
            ]
          },
          "metadata": {
            "tags": [],
            "needs_background": "light"
          }
        }
      ]
    },
    {
      "cell_type": "code",
      "metadata": {
        "id": "qKF1cmyv5Q-s",
        "colab": {
          "base_uri": "https://localhost:8080/",
          "height": 281
        },
        "outputId": "24f6c19d-b0f6-49e2-8866-0d8d9f21a060"
      },
      "source": [
        "plt.figure()\n",
        "\n",
        "ax1 = data['EMPLOYER_NAME'][data['YEAR'] == 2011].groupby(data['EMPLOYER_NAME']).count().sort_values(ascending=False).head(10).plot(kind='barh', title = \"Top 10 Applicants in 2016\")\n",
        "ax1.set_label(\"\")\n",
        "plt.show()"
      ],
      "execution_count": null,
      "outputs": [
        {
          "output_type": "display_data",
          "data": {
            "image/png": "[encoded data removed]",
            "text/plain": [
              "<Figure size 432x288 with 1 Axes>"
            ]
          },
          "metadata": {
            "tags": [],
            "needs_background": "light"
          }
        }
      ]
    },
    {
      "cell_type": "code",
      "metadata": {
        "id": "E-vXZfrF5T8q",
        "colab": {
          "base_uri": "https://localhost:8080/",
          "height": 281
        },
        "outputId": "8b404373-2196-418f-f79a-bf66278bb576"
      },
      "source": [
        "plt.figure()\n",
        "\n",
        "ax2 = data['EMPLOYER_NAME'][data['YEAR'] == 2016].groupby(data['EMPLOYER_NAME']).count().sort_values(ascending=False).head(10).plot(kind='barh', title='Top 10 Applicants in 2016'\n",
        "                                                                                                                             )\n",
        "ax2.set_ylabel(\"\")\n",
        "plt.show()"
      ],
      "execution_count": null,
      "outputs": [
        {
          "output_type": "display_data",
          "data": {
            "image/png": "[encoded data removed]",
            "text/plain": [
              "<Figure size 432x288 with 1 Axes>"
            ]
          },
          "metadata": {
            "tags": [],
            "needs_background": "light"
          }
        }
      ]
    },
    {
      "cell_type": "code",
      "metadata": {
        "id": "0Im4mIrc5WAx",
        "colab": {
          "base_uri": "https://localhost:8080/",
          "height": 281
        },
        "outputId": "e403d271-b31c-4e1d-e258-c680c61ef494"
      },
      "source": [
        "plt.figure()\n",
        "\n",
        "ax3 = data['EMPLOYER_NAME'].groupby([data['EMPLOYER_NAME']]).count().sort_values(ascending=False).head(10).plot(kind = 'barh', title = 'Top 10 Applicants from 2011 to 2016')\n",
        "                                                                                                           \n",
        "ax3.set_ylabel(\"\")\n",
        "plt.show()"
      ],
      "execution_count": null,
      "outputs": [
        {
          "output_type": "display_data",
          "data": {
            "image/png": "[encoded data removed]",
            "text/plain": [
              "<Figure size 432x288 with 1 Axes>"
            ]
          },
          "metadata": {
            "tags": [],
            "needs_background": "light"
          }
        }
      ]
    },
    {
      "cell_type": "code",
      "metadata": {
        "id": "qRF5U5075YUW",
        "colab": {
          "base_uri": "https://localhost:8080/",
          "height": 464
        },
        "outputId": "74690b88-e9b9-40de-8c71-6dd4c2488138"
      },
      "source": [
        "plt.figure(figsize=(10,7))\n",
        "sns.set(style=\"whitegrid\")\n",
        "g = sns.countplot(x = 'FULL_TIME_POSITION', data = data)\n",
        "plt.title(\"NUMBER OF APPLICATIONS MADE FOR THE FULL TIME POSITION\")\n",
        "plt.ylabel(\"NUMBER OF PETITIONS MADE\")\n",
        "plt.show()"
      ],
      "execution_count": null,
      "outputs": [
        {
          "output_type": "display_data",
          "data": {
            "image/png": "[encoded data removed]",
            "text/plain": [
              "<Figure size 720x504 with 1 Axes>"
            ]
          },
          "metadata": {
            "tags": [],
            "needs_background": "light"
          }
        }
      ]
    },
    {
      "cell_type": "code",
      "metadata": {
        "id": "ihCY3tX35bMi"
      },
      "source": [
        "top_emp = list(data['EMPLOYER_NAME'][data['YEAR'] >= 2015].groupby(data['EMPLOYER_NAME']).count().sort_values(ascending=False).head(10).index)\n",
        "\n",
        "byempyear = data[['EMPLOYER_NAME', 'YEAR', 'PREVAILING_WAGE']][data['EMPLOYER_NAME'].isin(top_emp)]\n",
        "\n",
        "byempyear = byempyear.groupby([data['EMPLOYER_NAME'], data['YEAR']])"
      ],
      "execution_count": null,
      "outputs": []
    },
    {
      "cell_type": "code",
      "metadata": {
        "id": "Ay_4w4wf5dTo",
        "colab": {
          "base_uri": "https://localhost:8080/",
          "height": 464
        },
        "outputId": "0d3e9a4e-37e3-4eff-9da0-f9194706ee93"
      },
      "source": [
        "plt.figure(figsize=(12,7))\n",
        "\n",
        "markers=['o','v','^','<','>','d','s','p','*','h','x','D','o','v','^','<','>','d',\n",
        "         's','p','*','h','x','D']\n",
        "\n",
        "for company in top_emp:\n",
        "    tmp = byempyear.count().loc[company]\n",
        "    plt.plot(tmp.index.values, tmp[\"PREVAILING_WAGE\"].values, label=company,\n",
        "             linewidth=2,marker=markers[top_emp.index(company)])\n",
        "plt.xlabel(\"Year\")\n",
        "plt.ylabel(\"Number of Applications\")\n",
        "plt.legend()\n",
        "plt.title('Number of Applications of Top 10 Applicants')\n",
        "plt.show()"
      ],
      "execution_count": null,
      "outputs": [
        {
          "output_type": "display_data",
          "data": {
            "image/png": "[encoded data removed]",
            "text/plain": [
              "<Figure size 864x504 with 1 Axes>"
            ]
          },
          "metadata": {
            "tags": []
          }
        }
      ]
    },
    {
      "cell_type": "code",
      "metadata": {
        "id": "dRaQp1tY5ft0"
      },
      "source": [
        ""
      ],
      "execution_count": null,
      "outputs": []
    },
    {
      "cell_type": "markdown",
      "metadata": {
        "id": "jE4_EFLN5hsa"
      },
      "source": [
        "**Removing Outliers**"
      ]
    },
    {
      "cell_type": "code",
      "metadata": {
        "id": "ZB59Bf6C5qAA"
      },
      "source": [
        "data = data[data['PREVAILING_WAGE'] <= 500000]\n",
        "by_emp_year = data[['EMPLOYER_NAME', 'YEAR', 'PREVAILING_WAGE']][data['EMPLOYER_NAME'].isin(top_emp)]\n",
        "by_emp_year = by_emp_year.groupby([data['EMPLOYER_NAME'],data['YEAR']])"
      ],
      "execution_count": null,
      "outputs": []
    },
    {
      "cell_type": "code",
      "metadata": {
        "id": "9Ev6csKW5uHN"
      },
      "source": [
        ""
      ],
      "execution_count": null,
      "outputs": []
    },
    {
      "cell_type": "markdown",
      "metadata": {
        "id": "9Tfv6I9D5wTM"
      },
      "source": [
        "**Checking for null value**"
      ]
    },
    {
      "cell_type": "code",
      "metadata": {
        "id": "12wb0Ntw576_",
        "colab": {
          "base_uri": "https://localhost:8080/"
        },
        "outputId": "d6e7f474-4c47-4a32-d2e2-c7c5d7a5997a"
      },
      "source": [
        "data.isnull().sum()"
      ],
      "execution_count": null,
      "outputs": [
        {
          "output_type": "execute_result",
          "data": {
            "text/plain": [
              "Unnamed: 0                 0\n",
              "CASE_STATUS                0\n",
              "EMPLOYER_NAME             42\n",
              "SOC_NAME               17698\n",
              "JOB_TITLE                 26\n",
              "FULL_TIME_POSITION         0\n",
              "PREVAILING_WAGE            0\n",
              "YEAR                       0\n",
              "WORKSITE                   0\n",
              "lon                   107089\n",
              "lat                   107089\n",
              "dtype: int64"
            ]
          },
          "metadata": {
            "tags": []
          },
          "execution_count": 14
        }
      ]
    },
    {
      "cell_type": "code",
      "metadata": {
        "id": "0WKKPzng5-Cr"
      },
      "source": [
        "data['SOC_NAME'] = data['SOC_NAME'].fillna(data['SOC_NAME'].mode()[0])"
      ],
      "execution_count": null,
      "outputs": []
    },
    {
      "cell_type": "code",
      "metadata": {
        "id": "4i9RQqAn6AdJ",
        "colab": {
          "base_uri": "https://localhost:8080/"
        },
        "outputId": "4f38c5a8-8e53-4ecb-8539-d6f08daf107f"
      },
      "source": [
        "data.isnull().sum()"
      ],
      "execution_count": null,
      "outputs": [
        {
          "output_type": "execute_result",
          "data": {
            "text/plain": [
              "Unnamed: 0                 0\n",
              "CASE_STATUS                0\n",
              "EMPLOYER_NAME             42\n",
              "SOC_NAME                   0\n",
              "JOB_TITLE                 26\n",
              "FULL_TIME_POSITION         0\n",
              "PREVAILING_WAGE            0\n",
              "YEAR                       0\n",
              "WORKSITE                   0\n",
              "lon                   107089\n",
              "lat                   107089\n",
              "dtype: int64"
            ]
          },
          "metadata": {
            "tags": []
          },
          "execution_count": 16
        }
      ]
    },
    {
      "cell_type": "code",
      "metadata": {
        "id": "887sYveH6Crm"
      },
      "source": [
        ""
      ],
      "execution_count": null,
      "outputs": []
    },
    {
      "cell_type": "markdown",
      "metadata": {
        "id": "pcyicj426F4n"
      },
      "source": [
        "**Label enconding the CASE_STATUS feature**"
      ]
    },
    {
      "cell_type": "code",
      "metadata": {
        "id": "JWYx_CUK6JM0",
        "colab": {
          "base_uri": "https://localhost:8080/",
          "height": 462
        },
        "outputId": "29fbd7ef-11ca-42e2-cf23-955eeed755cc"
      },
      "source": [
        "from sklearn.preprocessing import LabelEncoder\n",
        "le=LabelEncoder()\n",
        "data['CASE_STATUS']=le.fit_transform(data['CASE_STATUS'])\n",
        "data['FULL_TIME_POSITION']=le.fit_transform(data['FULL_TIME_POSITION'])\n",
        "data.head()"
      ],
      "execution_count": null,
      "outputs": [
        {
          "output_type": "execute_result",
          "data": {
            "text/html": [
              "<div>\n",
              "<style scoped>\n",
              "    .dataframe tbody tr th:only-of-type {\n",
              "        vertical-align: middle;\n",
              "    }\n",
              "\n",
              "    .dataframe tbody tr th {\n",
              "        vertical-align: top;\n",
              "    }\n",
              "\n",
              "    .dataframe thead th {\n",
              "        text-align: right;\n",
              "    }\n",
              "</style>\n",
              "<table border=\"1\" class=\"dataframe\">\n",
              "  <thead>\n",
              "    <tr style=\"text-align: right;\">\n",
              "      <th></th>\n",
              "      <th>Unnamed: 0</th>\n",
              "      <th>CASE_STATUS</th>\n",
              "      <th>EMPLOYER_NAME</th>\n",
              "      <th>SOC_NAME</th>\n",
              "      <th>JOB_TITLE</th>\n",
              "      <th>FULL_TIME_POSITION</th>\n",
              "      <th>PREVAILING_WAGE</th>\n",
              "      <th>YEAR</th>\n",
              "      <th>WORKSITE</th>\n",
              "      <th>lon</th>\n",
              "      <th>lat</th>\n",
              "    </tr>\n",
              "  </thead>\n",
              "  <tbody>\n",
              "    <tr>\n",
              "      <th>0</th>\n",
              "      <td>1</td>\n",
              "      <td>1</td>\n",
              "      <td>UNIVERSITY OF MICHIGAN</td>\n",
              "      <td>BIOCHEMISTS AND BIOPHYSICISTS</td>\n",
              "      <td>POSTDOCTORAL RESEARCH FELLOW</td>\n",
              "      <td>0</td>\n",
              "      <td>36067.0</td>\n",
              "      <td>2016.0</td>\n",
              "      <td>ANN ARBOR, MICHIGAN</td>\n",
              "      <td>-83.743038</td>\n",
              "      <td>42.280826</td>\n",
              "    </tr>\n",
              "    <tr>\n",
              "      <th>1</th>\n",
              "      <td>2</td>\n",
              "      <td>1</td>\n",
              "      <td>GOODMAN NETWORKS, INC.</td>\n",
              "      <td>CHIEF EXECUTIVES</td>\n",
              "      <td>CHIEF OPERATING OFFICER</td>\n",
              "      <td>1</td>\n",
              "      <td>242674.0</td>\n",
              "      <td>2016.0</td>\n",
              "      <td>PLANO, TEXAS</td>\n",
              "      <td>-96.698886</td>\n",
              "      <td>33.019843</td>\n",
              "    </tr>\n",
              "    <tr>\n",
              "      <th>2</th>\n",
              "      <td>3</td>\n",
              "      <td>1</td>\n",
              "      <td>PORTS AMERICA GROUP, INC.</td>\n",
              "      <td>CHIEF EXECUTIVES</td>\n",
              "      <td>CHIEF PROCESS OFFICER</td>\n",
              "      <td>1</td>\n",
              "      <td>193066.0</td>\n",
              "      <td>2016.0</td>\n",
              "      <td>JERSEY CITY, NEW JERSEY</td>\n",
              "      <td>-74.077642</td>\n",
              "      <td>40.728158</td>\n",
              "    </tr>\n",
              "    <tr>\n",
              "      <th>3</th>\n",
              "      <td>4</td>\n",
              "      <td>1</td>\n",
              "      <td>GATES CORPORATION, A WHOLLY-OWNED SUBSIDIARY O...</td>\n",
              "      <td>CHIEF EXECUTIVES</td>\n",
              "      <td>REGIONAL PRESIDEN, AMERICAS</td>\n",
              "      <td>1</td>\n",
              "      <td>220314.0</td>\n",
              "      <td>2016.0</td>\n",
              "      <td>DENVER, COLORADO</td>\n",
              "      <td>-104.990251</td>\n",
              "      <td>39.739236</td>\n",
              "    </tr>\n",
              "    <tr>\n",
              "      <th>4</th>\n",
              "      <td>5</td>\n",
              "      <td>6</td>\n",
              "      <td>PEABODY INVESTMENTS CORP.</td>\n",
              "      <td>CHIEF EXECUTIVES</td>\n",
              "      <td>PRESIDENT MONGOLIA AND INDIA</td>\n",
              "      <td>1</td>\n",
              "      <td>157518.4</td>\n",
              "      <td>2016.0</td>\n",
              "      <td>ST. LOUIS, MISSOURI</td>\n",
              "      <td>-90.199404</td>\n",
              "      <td>38.627003</td>\n",
              "    </tr>\n",
              "  </tbody>\n",
              "</table>\n",
              "</div>"
            ],
            "text/plain": [
              "   Unnamed: 0  CASE_STATUS  ...         lon        lat\n",
              "0           1            1  ...  -83.743038  42.280826\n",
              "1           2            1  ...  -96.698886  33.019843\n",
              "2           3            1  ...  -74.077642  40.728158\n",
              "3           4            1  ... -104.990251  39.739236\n",
              "4           5            6  ...  -90.199404  38.627003\n",
              "\n",
              "[5 rows x 11 columns]"
            ]
          },
          "metadata": {
            "tags": []
          },
          "execution_count": 17
        }
      ]
    },
    {
      "cell_type": "code",
      "metadata": {
        "id": "avbJyCcF6LOX",
        "colab": {
          "base_uri": "https://localhost:8080/"
        },
        "outputId": "381ef070-064f-4160-cc58-0f3ba33dfd56"
      },
      "source": [
        "import sys\n",
        "data['SOC_NAME1'] = 'others'\n",
        "data['SOC_NAME1'][data['SOC_NAME'].str.contains('computer','software')] = 'it'\n",
        "data['SOC_NAME1'][data['SOC_NAME'].str.contains('chief','management')] = 'manager'\n",
        "data['SOC_NAME1'][data['SOC_NAME'].str.contains('mechanical')] = 'mechanical'\n",
        "data['SOC_NAME1'][data['SOC_NAME'].str.contains('database')] = 'database'\n",
        "data['SOC_NAME1'][data['SOC_NAME'].str.contains('sales','market')] = 'scm'\n",
        "data['SOC_NAME1'][data['SOC_NAME'].str.contains('financial')] = 'finance'\n",
        "data['SOC_NAME1'][data['SOC_NAME'].str.contains('public','fundraising')] = 'pr'\n",
        "data['SOC_NAME1'][data['SOC_NAME'].str.contains('education','law')] = 'administrative'\n",
        "data['SOC_NAME1'][data['SOC_NAME'].str.contains('auditors','compliance')] = 'audit'\n",
        "data['SOC_NAME1'][data['SOC_NAME'].str.contains('distribution','logistics')] = 'scm'\n",
        "data['SOC_NAME1'][data['SOC_NAME'].str.contains('recruiters','human')] = 'hr'\n",
        "data['SOC_NAME1'][data['SOC_NAME'].str.contains('agricultural','farm')] = 'agri'\n",
        "data['SOC_NAME1'][data['SOC_NAME'].str.contains('construction','architectural')] = 'estate'\n",
        "data['SOC_NAME1'][data['SOC_NAME'].str.contains('forencsic','health')] = 'medical'\n",
        "data['SOC_NAME1'][data['SOC_NAME'].str.contains('teachers')] = 'education'"
      ],
      "execution_count": null,
      "outputs": [
        {
          "output_type": "stream",
          "text": [
            "/usr/local/lib/python3.7/dist-packages/ipykernel_launcher.py:3: SettingWithCopyWarning: \n",
            "A value is trying to be set on a copy of a slice from a DataFrame\n",
            "\n",
            "See the caveats in the documentation: https://pandas.pydata.org/pandas-docs/stable/user_guide/indexing.html#returning-a-view-versus-a-copy\n",
            "  This is separate from the ipykernel package so we can avoid doing imports until\n",
            "/usr/local/lib/python3.7/dist-packages/ipykernel_launcher.py:4: SettingWithCopyWarning: \n",
            "A value is trying to be set on a copy of a slice from a DataFrame\n",
            "\n",
            "See the caveats in the documentation: https://pandas.pydata.org/pandas-docs/stable/user_guide/indexing.html#returning-a-view-versus-a-copy\n",
            "  after removing the cwd from sys.path.\n",
            "/usr/local/lib/python3.7/dist-packages/ipykernel_launcher.py:5: SettingWithCopyWarning: \n",
            "A value is trying to be set on a copy of a slice from a DataFrame\n",
            "\n",
            "See the caveats in the documentation: https://pandas.pydata.org/pandas-docs/stable/user_guide/indexing.html#returning-a-view-versus-a-copy\n",
            "  \"\"\"\n",
            "/usr/local/lib/python3.7/dist-packages/ipykernel_launcher.py:6: SettingWithCopyWarning: \n",
            "A value is trying to be set on a copy of a slice from a DataFrame\n",
            "\n",
            "See the caveats in the documentation: https://pandas.pydata.org/pandas-docs/stable/user_guide/indexing.html#returning-a-view-versus-a-copy\n",
            "  \n",
            "/usr/local/lib/python3.7/dist-packages/ipykernel_launcher.py:7: SettingWithCopyWarning: \n",
            "A value is trying to be set on a copy of a slice from a DataFrame\n",
            "\n",
            "See the caveats in the documentation: https://pandas.pydata.org/pandas-docs/stable/user_guide/indexing.html#returning-a-view-versus-a-copy\n",
            "  import sys\n",
            "/usr/local/lib/python3.7/dist-packages/ipykernel_launcher.py:8: SettingWithCopyWarning: \n",
            "A value is trying to be set on a copy of a slice from a DataFrame\n",
            "\n",
            "See the caveats in the documentation: https://pandas.pydata.org/pandas-docs/stable/user_guide/indexing.html#returning-a-view-versus-a-copy\n",
            "  \n",
            "/usr/local/lib/python3.7/dist-packages/ipykernel_launcher.py:9: SettingWithCopyWarning: \n",
            "A value is trying to be set on a copy of a slice from a DataFrame\n",
            "\n",
            "See the caveats in the documentation: https://pandas.pydata.org/pandas-docs/stable/user_guide/indexing.html#returning-a-view-versus-a-copy\n",
            "  if __name__ == '__main__':\n",
            "/usr/local/lib/python3.7/dist-packages/ipykernel_launcher.py:10: SettingWithCopyWarning: \n",
            "A value is trying to be set on a copy of a slice from a DataFrame\n",
            "\n",
            "See the caveats in the documentation: https://pandas.pydata.org/pandas-docs/stable/user_guide/indexing.html#returning-a-view-versus-a-copy\n",
            "  # Remove the CWD from sys.path while we load stuff.\n",
            "/usr/local/lib/python3.7/dist-packages/ipykernel_launcher.py:11: SettingWithCopyWarning: \n",
            "A value is trying to be set on a copy of a slice from a DataFrame\n",
            "\n",
            "See the caveats in the documentation: https://pandas.pydata.org/pandas-docs/stable/user_guide/indexing.html#returning-a-view-versus-a-copy\n",
            "  # This is added back by InteractiveShellApp.init_path()\n",
            "/usr/local/lib/python3.7/dist-packages/ipykernel_launcher.py:12: SettingWithCopyWarning: \n",
            "A value is trying to be set on a copy of a slice from a DataFrame\n",
            "\n",
            "See the caveats in the documentation: https://pandas.pydata.org/pandas-docs/stable/user_guide/indexing.html#returning-a-view-versus-a-copy\n",
            "  if sys.path[0] == '':\n",
            "/usr/local/lib/python3.7/dist-packages/ipykernel_launcher.py:13: SettingWithCopyWarning: \n",
            "A value is trying to be set on a copy of a slice from a DataFrame\n",
            "\n",
            "See the caveats in the documentation: https://pandas.pydata.org/pandas-docs/stable/user_guide/indexing.html#returning-a-view-versus-a-copy\n",
            "  del sys.path[0]\n",
            "/usr/local/lib/python3.7/dist-packages/ipykernel_launcher.py:14: SettingWithCopyWarning: \n",
            "A value is trying to be set on a copy of a slice from a DataFrame\n",
            "\n",
            "See the caveats in the documentation: https://pandas.pydata.org/pandas-docs/stable/user_guide/indexing.html#returning-a-view-versus-a-copy\n",
            "  \n",
            "/usr/local/lib/python3.7/dist-packages/ipykernel_launcher.py:15: SettingWithCopyWarning: \n",
            "A value is trying to be set on a copy of a slice from a DataFrame\n",
            "\n",
            "See the caveats in the documentation: https://pandas.pydata.org/pandas-docs/stable/user_guide/indexing.html#returning-a-view-versus-a-copy\n",
            "  from ipykernel import kernelapp as app\n",
            "/usr/local/lib/python3.7/dist-packages/ipykernel_launcher.py:16: SettingWithCopyWarning: \n",
            "A value is trying to be set on a copy of a slice from a DataFrame\n",
            "\n",
            "See the caveats in the documentation: https://pandas.pydata.org/pandas-docs/stable/user_guide/indexing.html#returning-a-view-versus-a-copy\n",
            "  app.launch_new_instance()\n",
            "/usr/local/lib/python3.7/dist-packages/ipykernel_launcher.py:17: SettingWithCopyWarning: \n",
            "A value is trying to be set on a copy of a slice from a DataFrame\n",
            "\n",
            "See the caveats in the documentation: https://pandas.pydata.org/pandas-docs/stable/user_guide/indexing.html#returning-a-view-versus-a-copy\n"
          ],
          "name": "stderr"
        }
      ]
    },
    {
      "cell_type": "code",
      "metadata": {
        "id": "Y0lDbj9Q6N77"
      },
      "source": [
        "data = data.drop(['Unnamed: 0', 'EMPLOYER_NAME', 'SOC_NAME','JOB_TITLE','WORKSITE', 'lon','lat'], axis = 1)"
      ],
      "execution_count": null,
      "outputs": []
    },
    {
      "cell_type": "code",
      "metadata": {
        "id": "mD_mEnBb6SiQ"
      },
      "source": [
        "from sklearn import preprocessing\n",
        "le = preprocessing.LabelEncoder()\n",
        "le.fit(data.SOC_NAME1)\n",
        "data['SOC_N']=le.transform(data['SOC_NAME1'])"
      ],
      "execution_count": null,
      "outputs": []
    },
    {
      "cell_type": "code",
      "metadata": {
        "id": "cjEu_SUJ6VhJ"
      },
      "source": [
        "data = data.drop(['SOC_NAME1'], axis=1)"
      ],
      "execution_count": null,
      "outputs": []
    },
    {
      "cell_type": "code",
      "metadata": {
        "id": "Lo7MQbtj6Xx0",
        "colab": {
          "base_uri": "https://localhost:8080/",
          "height": 419
        },
        "outputId": "7044fb10-4c2a-4dcc-a857-52c0f62161d6"
      },
      "source": [
        "data"
      ],
      "execution_count": null,
      "outputs": [
        {
          "output_type": "execute_result",
          "data": {
            "text/html": [
              "<div>\n",
              "<style scoped>\n",
              "    .dataframe tbody tr th:only-of-type {\n",
              "        vertical-align: middle;\n",
              "    }\n",
              "\n",
              "    .dataframe tbody tr th {\n",
              "        vertical-align: top;\n",
              "    }\n",
              "\n",
              "    .dataframe thead th {\n",
              "        text-align: right;\n",
              "    }\n",
              "</style>\n",
              "<table border=\"1\" class=\"dataframe\">\n",
              "  <thead>\n",
              "    <tr style=\"text-align: right;\">\n",
              "      <th></th>\n",
              "      <th>CASE_STATUS</th>\n",
              "      <th>FULL_TIME_POSITION</th>\n",
              "      <th>PREVAILING_WAGE</th>\n",
              "      <th>YEAR</th>\n",
              "      <th>SOC_N</th>\n",
              "    </tr>\n",
              "  </thead>\n",
              "  <tbody>\n",
              "    <tr>\n",
              "      <th>0</th>\n",
              "      <td>1</td>\n",
              "      <td>0</td>\n",
              "      <td>36067.0</td>\n",
              "      <td>2016.0</td>\n",
              "      <td>2</td>\n",
              "    </tr>\n",
              "    <tr>\n",
              "      <th>1</th>\n",
              "      <td>1</td>\n",
              "      <td>1</td>\n",
              "      <td>242674.0</td>\n",
              "      <td>2016.0</td>\n",
              "      <td>2</td>\n",
              "    </tr>\n",
              "    <tr>\n",
              "      <th>2</th>\n",
              "      <td>1</td>\n",
              "      <td>1</td>\n",
              "      <td>193066.0</td>\n",
              "      <td>2016.0</td>\n",
              "      <td>2</td>\n",
              "    </tr>\n",
              "    <tr>\n",
              "      <th>3</th>\n",
              "      <td>1</td>\n",
              "      <td>1</td>\n",
              "      <td>220314.0</td>\n",
              "      <td>2016.0</td>\n",
              "      <td>2</td>\n",
              "    </tr>\n",
              "    <tr>\n",
              "      <th>4</th>\n",
              "      <td>6</td>\n",
              "      <td>1</td>\n",
              "      <td>157518.4</td>\n",
              "      <td>2016.0</td>\n",
              "      <td>2</td>\n",
              "    </tr>\n",
              "    <tr>\n",
              "      <th>...</th>\n",
              "      <td>...</td>\n",
              "      <td>...</td>\n",
              "      <td>...</td>\n",
              "      <td>...</td>\n",
              "      <td>...</td>\n",
              "    </tr>\n",
              "    <tr>\n",
              "      <th>3002440</th>\n",
              "      <td>6</td>\n",
              "      <td>1</td>\n",
              "      <td>64800.0</td>\n",
              "      <td>2011.0</td>\n",
              "      <td>2</td>\n",
              "    </tr>\n",
              "    <tr>\n",
              "      <th>3002441</th>\n",
              "      <td>6</td>\n",
              "      <td>0</td>\n",
              "      <td>70553.6</td>\n",
              "      <td>2011.0</td>\n",
              "      <td>2</td>\n",
              "    </tr>\n",
              "    <tr>\n",
              "      <th>3002442</th>\n",
              "      <td>6</td>\n",
              "      <td>1</td>\n",
              "      <td>33800.0</td>\n",
              "      <td>2011.0</td>\n",
              "      <td>2</td>\n",
              "    </tr>\n",
              "    <tr>\n",
              "      <th>3002443</th>\n",
              "      <td>6</td>\n",
              "      <td>1</td>\n",
              "      <td>59800.0</td>\n",
              "      <td>2011.0</td>\n",
              "      <td>2</td>\n",
              "    </tr>\n",
              "    <tr>\n",
              "      <th>3002444</th>\n",
              "      <td>6</td>\n",
              "      <td>1</td>\n",
              "      <td>59800.0</td>\n",
              "      <td>2011.0</td>\n",
              "      <td>2</td>\n",
              "    </tr>\n",
              "  </tbody>\n",
              "</table>\n",
              "<p>2999912 rows × 5 columns</p>\n",
              "</div>"
            ],
            "text/plain": [
              "         CASE_STATUS  FULL_TIME_POSITION  PREVAILING_WAGE    YEAR  SOC_N\n",
              "0                  1                   0          36067.0  2016.0      2\n",
              "1                  1                   1         242674.0  2016.0      2\n",
              "2                  1                   1         193066.0  2016.0      2\n",
              "3                  1                   1         220314.0  2016.0      2\n",
              "4                  6                   1         157518.4  2016.0      2\n",
              "...              ...                 ...              ...     ...    ...\n",
              "3002440            6                   1          64800.0  2011.0      2\n",
              "3002441            6                   0          70553.6  2011.0      2\n",
              "3002442            6                   1          33800.0  2011.0      2\n",
              "3002443            6                   1          59800.0  2011.0      2\n",
              "3002444            6                   1          59800.0  2011.0      2\n",
              "\n",
              "[2999912 rows x 5 columns]"
            ]
          },
          "metadata": {
            "tags": []
          },
          "execution_count": 22
        }
      ]
    },
    {
      "cell_type": "code",
      "metadata": {
        "id": "JilekrOW6aa2",
        "colab": {
          "base_uri": "https://localhost:8080/",
          "height": 204
        },
        "outputId": "600c9415-7a90-4078-eec2-014ae87454b5"
      },
      "source": [
        "x=pd.DataFrame(data.iloc[:,1:5])\n",
        "x.head()"
      ],
      "execution_count": null,
      "outputs": [
        {
          "output_type": "execute_result",
          "data": {
            "text/html": [
              "<div>\n",
              "<style scoped>\n",
              "    .dataframe tbody tr th:only-of-type {\n",
              "        vertical-align: middle;\n",
              "    }\n",
              "\n",
              "    .dataframe tbody tr th {\n",
              "        vertical-align: top;\n",
              "    }\n",
              "\n",
              "    .dataframe thead th {\n",
              "        text-align: right;\n",
              "    }\n",
              "</style>\n",
              "<table border=\"1\" class=\"dataframe\">\n",
              "  <thead>\n",
              "    <tr style=\"text-align: right;\">\n",
              "      <th></th>\n",
              "      <th>FULL_TIME_POSITION</th>\n",
              "      <th>PREVAILING_WAGE</th>\n",
              "      <th>YEAR</th>\n",
              "      <th>SOC_N</th>\n",
              "    </tr>\n",
              "  </thead>\n",
              "  <tbody>\n",
              "    <tr>\n",
              "      <th>0</th>\n",
              "      <td>0</td>\n",
              "      <td>36067.0</td>\n",
              "      <td>2016.0</td>\n",
              "      <td>2</td>\n",
              "    </tr>\n",
              "    <tr>\n",
              "      <th>1</th>\n",
              "      <td>1</td>\n",
              "      <td>242674.0</td>\n",
              "      <td>2016.0</td>\n",
              "      <td>2</td>\n",
              "    </tr>\n",
              "    <tr>\n",
              "      <th>2</th>\n",
              "      <td>1</td>\n",
              "      <td>193066.0</td>\n",
              "      <td>2016.0</td>\n",
              "      <td>2</td>\n",
              "    </tr>\n",
              "    <tr>\n",
              "      <th>3</th>\n",
              "      <td>1</td>\n",
              "      <td>220314.0</td>\n",
              "      <td>2016.0</td>\n",
              "      <td>2</td>\n",
              "    </tr>\n",
              "    <tr>\n",
              "      <th>4</th>\n",
              "      <td>1</td>\n",
              "      <td>157518.4</td>\n",
              "      <td>2016.0</td>\n",
              "      <td>2</td>\n",
              "    </tr>\n",
              "  </tbody>\n",
              "</table>\n",
              "</div>"
            ],
            "text/plain": [
              "   FULL_TIME_POSITION  PREVAILING_WAGE    YEAR  SOC_N\n",
              "0                   0          36067.0  2016.0      2\n",
              "1                   1         242674.0  2016.0      2\n",
              "2                   1         193066.0  2016.0      2\n",
              "3                   1         220314.0  2016.0      2\n",
              "4                   1         157518.4  2016.0      2"
            ]
          },
          "metadata": {
            "tags": []
          },
          "execution_count": 23
        }
      ]
    },
    {
      "cell_type": "code",
      "metadata": {
        "id": "8k4x1HjN6chU",
        "colab": {
          "base_uri": "https://localhost:8080/",
          "height": 204
        },
        "outputId": "f621710a-f58f-482b-8b81-fc05189dd357"
      },
      "source": [
        "y=pd.DataFrame(data.iloc[:,0:1])\n",
        "y.head()"
      ],
      "execution_count": null,
      "outputs": [
        {
          "output_type": "execute_result",
          "data": {
            "text/html": [
              "<div>\n",
              "<style scoped>\n",
              "    .dataframe tbody tr th:only-of-type {\n",
              "        vertical-align: middle;\n",
              "    }\n",
              "\n",
              "    .dataframe tbody tr th {\n",
              "        vertical-align: top;\n",
              "    }\n",
              "\n",
              "    .dataframe thead th {\n",
              "        text-align: right;\n",
              "    }\n",
              "</style>\n",
              "<table border=\"1\" class=\"dataframe\">\n",
              "  <thead>\n",
              "    <tr style=\"text-align: right;\">\n",
              "      <th></th>\n",
              "      <th>CASE_STATUS</th>\n",
              "    </tr>\n",
              "  </thead>\n",
              "  <tbody>\n",
              "    <tr>\n",
              "      <th>0</th>\n",
              "      <td>1</td>\n",
              "    </tr>\n",
              "    <tr>\n",
              "      <th>1</th>\n",
              "      <td>1</td>\n",
              "    </tr>\n",
              "    <tr>\n",
              "      <th>2</th>\n",
              "      <td>1</td>\n",
              "    </tr>\n",
              "    <tr>\n",
              "      <th>3</th>\n",
              "      <td>1</td>\n",
              "    </tr>\n",
              "    <tr>\n",
              "      <th>4</th>\n",
              "      <td>6</td>\n",
              "    </tr>\n",
              "  </tbody>\n",
              "</table>\n",
              "</div>"
            ],
            "text/plain": [
              "   CASE_STATUS\n",
              "0            1\n",
              "1            1\n",
              "2            1\n",
              "3            1\n",
              "4            6"
            ]
          },
          "metadata": {
            "tags": []
          },
          "execution_count": 24
        }
      ]
    },
    {
      "cell_type": "code",
      "metadata": {
        "id": "yWU7KzFA6fQQ"
      },
      "source": [
        "from sklearn.model_selection import train_test_split\n",
        "\n",
        "x_train, x_test, y_train, y_test = train_test_split(x, y, test_size = 0.3, random_state = 42)"
      ],
      "execution_count": null,
      "outputs": []
    },
    {
      "cell_type": "code",
      "metadata": {
        "id": "X5lWZ8tf6hxS"
      },
      "source": [
        ""
      ],
      "execution_count": null,
      "outputs": []
    },
    {
      "cell_type": "markdown",
      "metadata": {
        "id": "jRr-mZhz6ihE"
      },
      "source": [
        "**Model Building**"
      ]
    },
    {
      "cell_type": "code",
      "metadata": {
        "id": "qtMvIaiK6kyi"
      },
      "source": [
        "#Logistic Regression\n",
        "from sklearn.linear_model import LogisticRegression\n"
      ],
      "execution_count": null,
      "outputs": []
    },
    {
      "cell_type": "code",
      "metadata": {
        "id": "GvUW3piF7BqB",
        "colab": {
          "base_uri": "https://localhost:8080/",
          "height": 473
        },
        "outputId": "df6e45cf-6374-46f4-c7cf-ed80a09f67eb"
      },
      "source": [
        "logr=LogisticRegression()\n",
        "logr.fit(x_train,y_train)\n",
        "y_test"
      ],
      "execution_count": null,
      "outputs": [
        {
          "output_type": "stream",
          "text": [
            "/usr/local/lib/python3.7/dist-packages/sklearn/utils/validation.py:760: DataConversionWarning: A column-vector y was passed when a 1d array was expected. Please change the shape of y to (n_samples, ), for example using ravel().\n",
            "  y = column_or_1d(y, warn=True)\n"
          ],
          "name": "stderr"
        },
        {
          "output_type": "execute_result",
          "data": {
            "text/html": [
              "<div>\n",
              "<style scoped>\n",
              "    .dataframe tbody tr th:only-of-type {\n",
              "        vertical-align: middle;\n",
              "    }\n",
              "\n",
              "    .dataframe tbody tr th {\n",
              "        vertical-align: top;\n",
              "    }\n",
              "\n",
              "    .dataframe thead th {\n",
              "        text-align: right;\n",
              "    }\n",
              "</style>\n",
              "<table border=\"1\" class=\"dataframe\">\n",
              "  <thead>\n",
              "    <tr style=\"text-align: right;\">\n",
              "      <th></th>\n",
              "      <th>CASE_STATUS</th>\n",
              "    </tr>\n",
              "  </thead>\n",
              "  <tbody>\n",
              "    <tr>\n",
              "      <th>520002</th>\n",
              "      <td>0</td>\n",
              "    </tr>\n",
              "    <tr>\n",
              "      <th>1128791</th>\n",
              "      <td>0</td>\n",
              "    </tr>\n",
              "    <tr>\n",
              "      <th>900630</th>\n",
              "      <td>0</td>\n",
              "    </tr>\n",
              "    <tr>\n",
              "      <th>1362279</th>\n",
              "      <td>0</td>\n",
              "    </tr>\n",
              "    <tr>\n",
              "      <th>1691055</th>\n",
              "      <td>0</td>\n",
              "    </tr>\n",
              "    <tr>\n",
              "      <th>...</th>\n",
              "      <td>...</td>\n",
              "    </tr>\n",
              "    <tr>\n",
              "      <th>108212</th>\n",
              "      <td>0</td>\n",
              "    </tr>\n",
              "    <tr>\n",
              "      <th>1821115</th>\n",
              "      <td>0</td>\n",
              "    </tr>\n",
              "    <tr>\n",
              "      <th>826367</th>\n",
              "      <td>0</td>\n",
              "    </tr>\n",
              "    <tr>\n",
              "      <th>573076</th>\n",
              "      <td>6</td>\n",
              "    </tr>\n",
              "    <tr>\n",
              "      <th>1164132</th>\n",
              "      <td>0</td>\n",
              "    </tr>\n",
              "  </tbody>\n",
              "</table>\n",
              "<p>899974 rows × 1 columns</p>\n",
              "</div>"
            ],
            "text/plain": [
              "         CASE_STATUS\n",
              "520002             0\n",
              "1128791            0\n",
              "900630             0\n",
              "1362279            0\n",
              "1691055            0\n",
              "...              ...\n",
              "108212             0\n",
              "1821115            0\n",
              "826367             0\n",
              "573076             6\n",
              "1164132            0\n",
              "\n",
              "[899974 rows x 1 columns]"
            ]
          },
          "metadata": {
            "tags": []
          },
          "execution_count": 27
        }
      ]
    },
    {
      "cell_type": "code",
      "metadata": {
        "id": "Ki3sTuHB7CXB",
        "colab": {
          "base_uri": "https://localhost:8080/"
        },
        "outputId": "989fab5b-1a21-469b-c4ab-edf36a0ba9cf"
      },
      "source": [
        "y_pred_logr=logr.predict(x_test)\n",
        "y_pred_logr"
      ],
      "execution_count": null,
      "outputs": [
        {
          "output_type": "execute_result",
          "data": {
            "text/plain": [
              "array([0, 0, 0, ..., 0, 0, 0])"
            ]
          },
          "metadata": {
            "tags": []
          },
          "execution_count": 28
        }
      ]
    },
    {
      "cell_type": "code",
      "metadata": {
        "id": "snEG1VXj7Fm3",
        "colab": {
          "base_uri": "https://localhost:8080/"
        },
        "outputId": "196cd0ef-0ca6-4a88-f845-1e44f78f4aaf"
      },
      "source": [
        "from sklearn.metrics import confusion_matrix,classification_report,accuracy_score\n",
        "confusion_matrix = confusion_matrix(y_test, y_pred_logr)\n",
        "print(confusion_matrix)"
      ],
      "execution_count": null,
      "outputs": [
        {
          "output_type": "stream",
          "text": [
            "[[784458      0      0      0      0      0]\n",
            " [ 60711      0      0      0      0      0]\n",
            " [ 27545      0      0      0      0      0]\n",
            " [     1      0      0      0      0      0]\n",
            " [     6      0      0      0      0      0]\n",
            " [ 27253      0      0      0      0      0]]\n"
          ],
          "name": "stdout"
        }
      ]
    },
    {
      "cell_type": "code",
      "metadata": {
        "id": "WqhtXDP17RPH",
        "colab": {
          "base_uri": "https://localhost:8080/"
        },
        "outputId": "2eccb0cb-0a6b-4f00-ec86-bceb228447b5"
      },
      "source": [
        "acc_logr=accuracy_score(y_test,y_pred_logr)\n",
        "acc_logr"
      ],
      "execution_count": null,
      "outputs": [
        {
          "output_type": "execute_result",
          "data": {
            "text/plain": [
              "0.8716451808607805"
            ]
          },
          "metadata": {
            "tags": []
          },
          "execution_count": 30
        }
      ]
    },
    {
      "cell_type": "code",
      "metadata": {
        "id": "y6bhxIz17UUa",
        "colab": {
          "base_uri": "https://localhost:8080/"
        },
        "outputId": "920a15bf-dc59-460e-8d0d-03df31e71c04"
      },
      "source": [
        "print(classification_report(y_test, y_pred_logr))"
      ],
      "execution_count": null,
      "outputs": [
        {
          "output_type": "stream",
          "text": [
            "/usr/local/lib/python3.7/dist-packages/sklearn/metrics/_classification.py:1272: UndefinedMetricWarning: Precision and F-score are ill-defined and being set to 0.0 in labels with no predicted samples. Use `zero_division` parameter to control this behavior.\n",
            "  _warn_prf(average, modifier, msg_start, len(result))\n"
          ],
          "name": "stderr"
        },
        {
          "output_type": "stream",
          "text": [
            "              precision    recall  f1-score   support\n",
            "\n",
            "           0       0.87      1.00      0.93    784458\n",
            "           1       0.00      0.00      0.00     60711\n",
            "           2       0.00      0.00      0.00     27545\n",
            "           3       0.00      0.00      0.00         1\n",
            "           4       0.00      0.00      0.00         6\n",
            "           6       0.00      0.00      0.00     27253\n",
            "\n",
            "    accuracy                           0.87    899974\n",
            "   macro avg       0.15      0.17      0.16    899974\n",
            "weighted avg       0.76      0.87      0.81    899974\n",
            "\n"
          ],
          "name": "stdout"
        }
      ]
    },
    {
      "cell_type": "code",
      "metadata": {
        "id": "eAlGeGkl8hjM",
        "colab": {
          "base_uri": "https://localhost:8080/"
        },
        "outputId": "3fc2ceac-a954-4dbb-9177-eb5288acb72b"
      },
      "source": [
        "#Random Forest\n",
        "from sklearn.ensemble import RandomForestClassifier\n",
        "rf = RandomForestClassifier()\n",
        "rf.fit(x_train, y_train)"
      ],
      "execution_count": null,
      "outputs": [
        {
          "output_type": "stream",
          "text": [
            "/usr/local/lib/python3.7/dist-packages/ipykernel_launcher.py:4: DataConversionWarning: A column-vector y was passed when a 1d array was expected. Please change the shape of y to (n_samples,), for example using ravel().\n",
            "  after removing the cwd from sys.path.\n"
          ],
          "name": "stderr"
        },
        {
          "output_type": "execute_result",
          "data": {
            "text/plain": [
              "RandomForestClassifier(bootstrap=True, ccp_alpha=0.0, class_weight=None,\n",
              "                       criterion='gini', max_depth=None, max_features='auto',\n",
              "                       max_leaf_nodes=None, max_samples=None,\n",
              "                       min_impurity_decrease=0.0, min_impurity_split=None,\n",
              "                       min_samples_leaf=1, min_samples_split=2,\n",
              "                       min_weight_fraction_leaf=0.0, n_estimators=100,\n",
              "                       n_jobs=None, oob_score=False, random_state=None,\n",
              "                       verbose=0, warm_start=False)"
            ]
          },
          "metadata": {
            "tags": []
          },
          "execution_count": 32
        }
      ]
    },
    {
      "cell_type": "code",
      "metadata": {
        "id": "LlnDgJTpOCdh"
      },
      "source": [
        "y_pred_rf =rf.predict(x_test)\n",
        "print(y_pred_rf)"
      ],
      "execution_count": null,
      "outputs": []
    },
    {
      "cell_type": "code",
      "metadata": {
        "id": "DJxLLHaU81v0",
        "colab": {
          "base_uri": "https://localhost:8080/"
        },
        "outputId": "de6287eb-4c5b-4900-d721-3ba409bc9d94"
      },
      "source": [
        "from sklearn.metrics import classification_report\n",
        "print(classification_report(y_test, y_pred_rf))"
      ],
      "execution_count": null,
      "outputs": [
        {
          "output_type": "stream",
          "text": [
            "/usr/local/lib/python3.7/dist-packages/sklearn/metrics/_classification.py:1272: UndefinedMetricWarning: Precision and F-score are ill-defined and being set to 0.0 in labels with no predicted samples. Use `zero_division` parameter to control this behavior.\n",
            "  _warn_prf(average, modifier, msg_start, len(result))\n"
          ],
          "name": "stderr"
        },
        {
          "output_type": "stream",
          "text": [
            "              precision    recall  f1-score   support\n",
            "\n",
            "           0       0.88      0.99      0.93    784458\n",
            "           1       0.47      0.09      0.16     60711\n",
            "           2       0.24      0.04      0.07     27545\n",
            "           3       0.00      0.00      0.00         1\n",
            "           4       0.00      0.00      0.00         6\n",
            "           6       0.15      0.01      0.02     27253\n",
            "\n",
            "    accuracy                           0.87    899974\n",
            "   macro avg       0.29      0.19      0.20    899974\n",
            "weighted avg       0.81      0.87      0.82    899974\n",
            "\n"
          ],
          "name": "stdout"
        }
      ]
    },
    {
      "cell_type": "code",
      "metadata": {
        "id": "w1J-z5fI85yd",
        "colab": {
          "base_uri": "https://localhost:8080/"
        },
        "outputId": "acc6dd9c-2b97-4c5f-9318-a68fbe931fbd"
      },
      "source": [
        "#nav bias\n",
        "from sklearn.naive_bayes import GaussianNB\n",
        "nb=GaussianNB()\n",
        "nb.fit(x_train,y_train)"
      ],
      "execution_count": null,
      "outputs": [
        {
          "output_type": "stream",
          "text": [
            "/usr/local/lib/python3.7/dist-packages/sklearn/naive_bayes.py:206: DataConversionWarning: A column-vector y was passed when a 1d array was expected. Please change the shape of y to (n_samples, ), for example using ravel().\n",
            "  y = column_or_1d(y, warn=True)\n"
          ],
          "name": "stderr"
        },
        {
          "output_type": "execute_result",
          "data": {
            "text/plain": [
              "GaussianNB(priors=None, var_smoothing=1e-09)"
            ]
          },
          "metadata": {
            "tags": []
          },
          "execution_count": 35
        }
      ]
    },
    {
      "cell_type": "code",
      "metadata": {
        "id": "g1JdAbqc9oaL",
        "colab": {
          "base_uri": "https://localhost:8080/"
        },
        "outputId": "5a3e6e6d-605d-4e94-fb3b-9398ba3eb7c6"
      },
      "source": [
        "y_pred_nb=nb.predict(x_test)\n",
        "y_pred_nb"
      ],
      "execution_count": null,
      "outputs": [
        {
          "output_type": "execute_result",
          "data": {
            "text/plain": [
              "array([0, 0, 0, ..., 0, 0, 0])"
            ]
          },
          "metadata": {
            "tags": []
          },
          "execution_count": 36
        }
      ]
    },
    {
      "cell_type": "code",
      "metadata": {
        "id": "1ZUJvlVmFpjY"
      },
      "source": [
        "from sklearn.metrics import confusion_matrix,classification_report,accuracy_score"
      ],
      "execution_count": null,
      "outputs": []
    },
    {
      "cell_type": "code",
      "metadata": {
        "colab": {
          "base_uri": "https://localhost:8080/"
        },
        "id": "JvHcUSXhFrds",
        "outputId": "b14024e9-7566-43c1-b6cd-6a434d124562"
      },
      "source": [
        "confusion_matrix = confusion_matrix(y_test, y_pred_nb)\n",
        "print(confusion_matrix)"
      ],
      "execution_count": null,
      "outputs": [
        {
          "output_type": "stream",
          "text": [
            "[[779433      0   5025      0      0      0]\n",
            " [ 60395      0    316      0      0      0]\n",
            " [ 26999      0    546      0      0      0]\n",
            " [     0      0      1      0      0      0]\n",
            " [     6      0      0      0      0      0]\n",
            " [ 27011      0    242      0      0      0]]\n"
          ],
          "name": "stdout"
        }
      ]
    },
    {
      "cell_type": "code",
      "metadata": {
        "colab": {
          "base_uri": "https://localhost:8080/"
        },
        "id": "OOkSxg5pFsK3",
        "outputId": "23e3e0d5-0414-41bf-8695-1bfe1ea76400"
      },
      "source": [
        "acc_nb=accuracy_score(y_test,y_pred_nb)\n",
        "acc_nb"
      ],
      "execution_count": null,
      "outputs": [
        {
          "output_type": "execute_result",
          "data": {
            "text/plain": [
              "0.8666683704195899"
            ]
          },
          "metadata": {
            "tags": []
          },
          "execution_count": 39
        }
      ]
    },
    {
      "cell_type": "code",
      "metadata": {
        "colab": {
          "base_uri": "https://localhost:8080/"
        },
        "id": "fcPhb9DNFvHj",
        "outputId": "db902aba-829c-4dd4-f1f4-6f1bb2baf03e"
      },
      "source": [
        "print(classification_report(y_test, y_pred_nb))"
      ],
      "execution_count": null,
      "outputs": [
        {
          "output_type": "stream",
          "text": [
            "/usr/local/lib/python3.7/dist-packages/sklearn/metrics/_classification.py:1272: UndefinedMetricWarning: Precision and F-score are ill-defined and being set to 0.0 in labels with no predicted samples. Use `zero_division` parameter to control this behavior.\n",
            "  _warn_prf(average, modifier, msg_start, len(result))\n"
          ],
          "name": "stderr"
        },
        {
          "output_type": "stream",
          "text": [
            "              precision    recall  f1-score   support\n",
            "\n",
            "           0       0.87      0.99      0.93    784458\n",
            "           1       0.00      0.00      0.00     60711\n",
            "           2       0.09      0.02      0.03     27545\n",
            "           3       0.00      0.00      0.00         1\n",
            "           4       0.00      0.00      0.00         6\n",
            "           6       0.00      0.00      0.00     27253\n",
            "\n",
            "    accuracy                           0.87    899974\n",
            "   macro avg       0.16      0.17      0.16    899974\n",
            "weighted avg       0.76      0.87      0.81    899974\n",
            "\n"
          ],
          "name": "stdout"
        }
      ]
    },
    {
      "cell_type": "code",
      "metadata": {
        "id": "cOjqw8I8Fv4v"
      },
      "source": [
        ""
      ],
      "execution_count": null,
      "outputs": []
    },
    {
      "cell_type": "code",
      "metadata": {
        "id": "Bd_vcD53_Bc7",
        "colab": {
          "base_uri": "https://localhost:8080/"
        },
        "outputId": "1f79495e-9333-459e-891e-0a760e00e596"
      },
      "source": [
        "#knn\n",
        "from sklearn.neighbors import KNeighborsClassifier \n",
        "knn=KNeighborsClassifier()\n",
        "knn.fit(x_train,y_train)"
      ],
      "execution_count": null,
      "outputs": [
        {
          "output_type": "stream",
          "text": [
            "/usr/local/lib/python3.7/dist-packages/ipykernel_launcher.py:4: DataConversionWarning: A column-vector y was passed when a 1d array was expected. Please change the shape of y to (n_samples, ), for example using ravel().\n",
            "  after removing the cwd from sys.path.\n"
          ],
          "name": "stderr"
        },
        {
          "output_type": "execute_result",
          "data": {
            "text/plain": [
              "KNeighborsClassifier(algorithm='auto', leaf_size=30, metric='minkowski',\n",
              "                     metric_params=None, n_jobs=None, n_neighbors=5, p=2,\n",
              "                     weights='uniform')"
            ]
          },
          "metadata": {
            "tags": []
          },
          "execution_count": 41
        }
      ]
    },
    {
      "cell_type": "code",
      "metadata": {
        "colab": {
          "base_uri": "https://localhost:8080/"
        },
        "id": "39ZyTbxOFGH4",
        "outputId": "31912300-0020-466b-b282-0ffaa634bbdb"
      },
      "source": [
        "y_pred_knn=knn.predict(x_test)\n",
        "y_pred_knn"
      ],
      "execution_count": null,
      "outputs": [
        {
          "output_type": "execute_result",
          "data": {
            "text/plain": [
              "array([0, 0, 0, ..., 0, 0, 0])"
            ]
          },
          "metadata": {
            "tags": []
          },
          "execution_count": 42
        }
      ]
    },
    {
      "cell_type": "code",
      "metadata": {
        "id": "jwN6Q6DRFIXY"
      },
      "source": [
        "from sklearn.metrics import confusion_matrix,classification_report,accuracy_score"
      ],
      "execution_count": null,
      "outputs": []
    },
    {
      "cell_type": "code",
      "metadata": {
        "colab": {
          "base_uri": "https://localhost:8080/"
        },
        "id": "NcNVBnxAFLjO",
        "outputId": "1dbcd2fc-b63d-4d83-c8b6-d8b5f871095f"
      },
      "source": [
        "confusion_matrix(y_test,y_pred_knn)"
      ],
      "execution_count": null,
      "outputs": [
        {
          "output_type": "execute_result",
          "data": {
            "text/plain": [
              "array([[774559,   7136,   2038,      0,      0,    725],\n",
              "       [ 54813,   5659,    121,      0,      0,    118],\n",
              "       [ 26378,    329,    799,      0,      0,     39],\n",
              "       [     1,      0,      0,      0,      0,      0],\n",
              "       [     6,      0,      0,      0,      0,      0],\n",
              "       [ 26278,    696,    112,      0,      0,    167]])"
            ]
          },
          "metadata": {
            "tags": []
          },
          "execution_count": 44
        }
      ]
    },
    {
      "cell_type": "code",
      "metadata": {
        "colab": {
          "base_uri": "https://localhost:8080/"
        },
        "id": "uDi9e8h0FNfm",
        "outputId": "0d79ea24-7ff6-43c5-ede4-cc36606a4caa"
      },
      "source": [
        "acc_knn=accuracy_score(y_test,y_pred_knn)\n",
        "acc_knn"
      ],
      "execution_count": null,
      "outputs": [
        {
          "output_type": "execute_result",
          "data": {
            "text/plain": [
              "0.8680072979886085"
            ]
          },
          "metadata": {
            "tags": []
          },
          "execution_count": 45
        }
      ]
    },
    {
      "cell_type": "code",
      "metadata": {
        "colab": {
          "base_uri": "https://localhost:8080/"
        },
        "id": "ygHdYthJFQGc",
        "outputId": "e300752d-5175-4fd2-c0d3-19350c25515a"
      },
      "source": [
        "print(classification_report(y_test,y_pred_knn))"
      ],
      "execution_count": null,
      "outputs": [
        {
          "output_type": "stream",
          "text": [
            "/usr/local/lib/python3.7/dist-packages/sklearn/metrics/_classification.py:1272: UndefinedMetricWarning: Precision and F-score are ill-defined and being set to 0.0 in labels with no predicted samples. Use `zero_division` parameter to control this behavior.\n",
            "  _warn_prf(average, modifier, msg_start, len(result))\n"
          ],
          "name": "stderr"
        },
        {
          "output_type": "stream",
          "text": [
            "              precision    recall  f1-score   support\n",
            "\n",
            "           0       0.88      0.99      0.93    784458\n",
            "           1       0.41      0.09      0.15     60711\n",
            "           2       0.26      0.03      0.05     27545\n",
            "           3       0.00      0.00      0.00         1\n",
            "           4       0.00      0.00      0.00         6\n",
            "           6       0.16      0.01      0.01     27253\n",
            "\n",
            "    accuracy                           0.87    899974\n",
            "   macro avg       0.28      0.19      0.19    899974\n",
            "weighted avg       0.81      0.87      0.82    899974\n",
            "\n"
          ],
          "name": "stdout"
        }
      ]
    },
    {
      "cell_type": "code",
      "metadata": {
        "colab": {
          "base_uri": "https://localhost:8080/"
        },
        "id": "hA1sBJKtFSMl",
        "outputId": "42f19505-9b17-40c0-8af9-391f7a184440"
      },
      "source": [
        "#Decision Trees\n",
        "from sklearn.tree import DecisionTreeClassifier\n",
        "dtc=DecisionTreeClassifier()\n",
        "dtc.fit(x_train,y_train)"
      ],
      "execution_count": null,
      "outputs": [
        {
          "output_type": "execute_result",
          "data": {
            "text/plain": [
              "DecisionTreeClassifier(ccp_alpha=0.0, class_weight=None, criterion='gini',\n",
              "                       max_depth=None, max_features=None, max_leaf_nodes=None,\n",
              "                       min_impurity_decrease=0.0, min_impurity_split=None,\n",
              "                       min_samples_leaf=1, min_samples_split=2,\n",
              "                       min_weight_fraction_leaf=0.0, presort='deprecated',\n",
              "                       random_state=None, splitter='best')"
            ]
          },
          "metadata": {
            "tags": []
          },
          "execution_count": 52
        }
      ]
    },
    {
      "cell_type": "code",
      "metadata": {
        "colab": {
          "base_uri": "https://localhost:8080/"
        },
        "id": "xHRKjKsqF3fY",
        "outputId": "29b39e11-fa84-43ed-a417-e12953a3a0a9"
      },
      "source": [
        "y_pred_dtc=dtc.predict(x_test)\n",
        "y_pred_dtc"
      ],
      "execution_count": null,
      "outputs": [
        {
          "output_type": "execute_result",
          "data": {
            "text/plain": [
              "array([0, 0, 0, ..., 0, 0, 0])"
            ]
          },
          "metadata": {
            "tags": []
          },
          "execution_count": 53
        }
      ]
    },
    {
      "cell_type": "code",
      "metadata": {
        "id": "vtGrMhKtF-Hq"
      },
      "source": [
        "from sklearn.metrics import confusion_matrix,classification_report,accuracy_score"
      ],
      "execution_count": null,
      "outputs": []
    },
    {
      "cell_type": "code",
      "metadata": {
        "colab": {
          "base_uri": "https://localhost:8080/"
        },
        "id": "z4G-ICaZGA-1",
        "outputId": "3bba8de6-0a1d-49c7-e0a6-7ac8ba32f192"
      },
      "source": [
        "confusion_matrix = confusion_matrix(y_test, y_pred_dtc)\n",
        "print(confusion_matrix)"
      ],
      "execution_count": null,
      "outputs": [
        {
          "output_type": "stream",
          "text": [
            "[[776144   4859   2543      0      0    912]\n",
            " [ 54889   5526    179      0      0    117]\n",
            " [ 26273    251    941      0      0     80]\n",
            " [     1      0      0      0      0      0]\n",
            " [     5      0      0      0      0      1]\n",
            " [ 26295    631    122      0      0    205]]\n"
          ],
          "name": "stdout"
        }
      ]
    },
    {
      "cell_type": "code",
      "metadata": {
        "colab": {
          "base_uri": "https://localhost:8080/"
        },
        "id": "2Hzcoht4GFka",
        "outputId": "85ee2cf7-2511-479f-a933-71a25a13af21"
      },
      "source": [
        "acc_dtc=accuracy_score(y_test,y_pred_dtc)\n",
        "acc_dtc"
      ],
      "execution_count": null,
      "outputs": [
        {
          "output_type": "execute_result",
          "data": {
            "text/plain": [
              "0.8698206837086405"
            ]
          },
          "metadata": {
            "tags": []
          },
          "execution_count": 56
        }
      ]
    },
    {
      "cell_type": "code",
      "metadata": {
        "colab": {
          "base_uri": "https://localhost:8080/"
        },
        "id": "v0khdZNcGH_L",
        "outputId": "3ca9cdf1-64c7-424c-8f50-ea207415f170"
      },
      "source": [
        "print(classification_report(y_test, y_pred_dtc))"
      ],
      "execution_count": null,
      "outputs": [
        {
          "output_type": "stream",
          "text": [
            "/usr/local/lib/python3.7/dist-packages/sklearn/metrics/_classification.py:1272: UndefinedMetricWarning: Precision and F-score are ill-defined and being set to 0.0 in labels with no predicted samples. Use `zero_division` parameter to control this behavior.\n",
            "  _warn_prf(average, modifier, msg_start, len(result))\n"
          ],
          "name": "stderr"
        },
        {
          "output_type": "stream",
          "text": [
            "              precision    recall  f1-score   support\n",
            "\n",
            "           0       0.88      0.99      0.93    784458\n",
            "           1       0.49      0.09      0.15     60711\n",
            "           2       0.25      0.03      0.06     27545\n",
            "           3       0.00      0.00      0.00         1\n",
            "           4       0.00      0.00      0.00         6\n",
            "           6       0.16      0.01      0.01     27253\n",
            "\n",
            "    accuracy                           0.87    899974\n",
            "   macro avg       0.30      0.19      0.19    899974\n",
            "weighted avg       0.81      0.87      0.82    899974\n",
            "\n"
          ],
          "name": "stdout"
        }
      ]
    },
    {
      "cell_type": "code",
      "metadata": {
        "id": "Mers_iFPNZNw"
      },
      "source": [
        "import pickle\n",
        "pickle.dump(logr,open('visa.pkl','wb'))"
      ],
      "execution_count": null,
      "outputs": []
    },
    {
      "cell_type": "code",
      "metadata": {
        "id": "1FDeNsfYNuvQ"
      },
      "source": [
        ""
      ],
      "execution_count": null,
      "outputs": []
    }
  ]
}